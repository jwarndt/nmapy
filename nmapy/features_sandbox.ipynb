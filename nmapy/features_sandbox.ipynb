{
 "cells": [
  {
   "cell_type": "code",
   "execution_count": 2,
   "metadata": {
    "collapsed": true
   },
   "outputs": [],
   "source": [
    "import time\n",
    "import math\n",
    "import os\n",
    "import random\n",
    "\n",
    "import matplotlib.pyplot as plt\n",
    "from sklearn.cluster import KMeans\n",
    "import skimage\n",
    "from scipy import ndimage as ndi\n",
    "from skimage.feature import hog, greycomatrix, greycoprops\n",
    "from skimage.color import rgb2gray\n",
    "from skimage.filters import gabor_kernel\n",
    "from skimage.morphology import erosion, dilation, opening, closing, white_tophat\n",
    "import cv2\n",
    "from osgeo import gdal\n",
    "from osgeo import osr\n",
    "import numpy as np"
   ]
  },
  {
   "cell_type": "code",
   "execution_count": 20,
   "metadata": {},
   "outputs": [
    {
     "ename": "ValueError",
     "evalue": "attempted relative import beyond top-level package",
     "output_type": "error",
     "traceback": [
      "\u001b[1;31m---------------------------------------------------------------------------\u001b[0m",
      "\u001b[1;31mValueError\u001b[0m                                Traceback (most recent call last)",
      "\u001b[1;32m<ipython-input-20-d5b21953add9>\u001b[0m in \u001b[0;36m<module>\u001b[1;34m()\u001b[0m\n\u001b[0;32m     13\u001b[0m \u001b[1;32mfrom\u001b[0m \u001b[0mskimage\u001b[0m\u001b[1;33m.\u001b[0m\u001b[0mfilters\u001b[0m \u001b[1;32mimport\u001b[0m \u001b[0mgabor_kernel\u001b[0m\u001b[1;33m\u001b[0m\u001b[0m\n\u001b[0;32m     14\u001b[0m \u001b[1;33m\u001b[0m\u001b[0m\n\u001b[1;32m---> 15\u001b[1;33m \u001b[1;32mfrom\u001b[0m \u001b[1;33m.\u001b[0m\u001b[1;33m.\u001b[0m\u001b[0mutilities\u001b[0m\u001b[1;33m.\u001b[0m\u001b[0mio\u001b[0m \u001b[1;32mimport\u001b[0m \u001b[1;33m*\u001b[0m\u001b[1;33m\u001b[0m\u001b[0m\n\u001b[0m\u001b[0;32m     16\u001b[0m \u001b[1;33m\u001b[0m\u001b[0m\n\u001b[0;32m     17\u001b[0m \u001b[1;32mdef\u001b[0m \u001b[0mglobal_convolve_filters\u001b[0m\u001b[1;33m(\u001b[0m\u001b[0mimage_arr\u001b[0m\u001b[1;33m,\u001b[0m \u001b[0mfilterbank\u001b[0m\u001b[1;33m)\u001b[0m\u001b[1;33m:\u001b[0m\u001b[1;33m\u001b[0m\u001b[0m\n",
      "\u001b[1;31mValueError\u001b[0m: attempted relative import beyond top-level package"
     ]
    }
   ],
   "source": [
    "import time\n",
    "import math\n",
    "import os\n",
    "import random\n",
    "\n",
    "from sklearn.cluster import KMeans\n",
    "import skimage\n",
    "from scipy import ndimage as ndi\n",
    "import numpy as np\n",
    "from osgeo import gdal\n",
    "from osgeo import osr\n",
    "from skimage.color import rgb2gray\n",
    "from skimage.filters import gabor_kernel\n",
    "\n",
    "from ..utilities.io import *\n",
    "\n",
    "def global_convolve_filters(image_arr, filterbank):\n",
    "    \"\"\"\n",
    "    returns the mean and variance of the gabor responses for the entire image_arr.\n",
    "    acts as a 'global' feature extractor\n",
    "    \"\"\"\n",
    "    count = 0\n",
    "    feats = np.zeros(shape(len(filterbank*2),), dtype=np.double)\n",
    "    for kernel in enumerate(filterbank):\n",
    "        filtered = ndi.convolve(image_arr, kernel, mode='wrap')\n",
    "        feats[count] = filtered.mean()\n",
    "        count+=1\n",
    "        feats[count] = filtered.var()\n",
    "        count+=1\n",
    "    return feats\n",
    "\n",
    "def create_filter_bank(thetas, sigmas, frequencies):\n",
    "    filterbank = []\n",
    "    for theta in thetas:\n",
    "        theta = theta / float(len(thetas)) * math.pi\n",
    "        for sigma in sigmas:\n",
    "            for frequency in frequencies:\n",
    "                kernel = np.real(gabor_kernel(frequency, theta=theta,\n",
    "                                              sigma_x=sigma, sigma_y=sigma))\n",
    "                filterbank.append(kernel)\n",
    "    return filterbank\n",
    "\n",
    "def local_convolve_filters(image_name, filterbank, output_dir):\n",
    "    # for BOVW feature descriptors\n",
    "    ds = gdal.Open(image_name)\n",
    "    image = ds.ReadAsArray()\n",
    "    geotran = ds.GetGeoTransform()\n",
    "    rows = ds.RasterYSize\n",
    "    cols = ds.RasterXSize\n",
    "    ds = None\n",
    "    \n",
    "    out_srs = osr.SpatialReference()\n",
    "    out_srs.ImportFromEPSG(4326)\n",
    "    out_srs_wkt = out_srs.ExportToWkt()\n",
    "    \n",
    "    image = np.moveaxis(image, 0, -1)\n",
    "    image = skimage.img_as_ubyte(rgb2gray(image))\n",
    "    \n",
    "    out_image = np.zeros(shape=(len(filterbank), image.shape[0], image.shape[1]), dtype=np.double)\n",
    "    for k, kernel in enumerate(filterbank):\n",
    "        filtered = ndi.convolve(image, kernel, mode='wrap')\n",
    "        out_image[k] = filtered\n",
    "    \n",
    "    output = os.path.join(outdir, os.path.basename(image_name)[-4:] + \"_gabor_feat_vecs.tif\")\n",
    "    write_geotiff(output, out_image, out_geotran, out_srs_wkt)\n",
    "    return out_image\n",
    "\n",
    "def get_rand_gabor_feats(image_dir, sample_num=100000):\n",
    "    gabor_feats = []\n",
    "    image_files = [n for n in os.listdir(image_dir) if n[-19:] == \"gabor_feat_vecs.tif\"]\n",
    "    rand_file_idx = [random.randint(0, len(image_files)-1) for n in range(sample_num)]\n",
    "    rand_file_idx.sort()\n",
    "    count = 0\n",
    "    cur_file = None\n",
    "    while len(gabor_feats) < sample_num:\n",
    "        if cur_file != image_files[rand_file_idx[count]]:\n",
    "            cur_file = image_files[rand_file_idx[count]]\n",
    "            ds = gdal.Open(cur_file)\n",
    "            gabor_im = ds.ReadAsArray()\n",
    "        rand_gabor_feat = get_rand_image_feat(gabor_im)\n",
    "        gabor_feats.append(rand_gabor_feat) # read a random sift feature from the array and append only its description to keypoints\n",
    "        count+=1\n",
    "    return gabor_feats\n",
    "\n",
    "def get_rand_image_feat(image_array):\n",
    "    if len(image_array.shape) == 2:\n",
    "        rand_row = random.randint(0, image_array.shape[0])\n",
    "        rand_col = random.randint(0, image_array.shape[1])\n",
    "        rand_feat = image_array[rand_row, rand_col]\n",
    "    if len(image_array.shape) == 3:\n",
    "        rand_row = random.randint(0, image_array.shape[1])\n",
    "        rand_col = random.randint(0, image_array.shape[2])\n",
    "        rand_feat = image_array[:,rand_row,rand_col]\n",
    "    return rand_feat\n",
    "    \n",
    "def create_gabor_codebook(gabor_feats_dir, n_clusters=32, rand_samp_num=100000):\n",
    "    out_codebook_file = os.path.join(gabor_feats_dir, 'gabor_kmeans_codebook' + \".dat\")\n",
    "    gabor_feats = get_rand_gabor_feats(gabor_feats_dir, rand_samp_num)\n",
    "    codebook = KMeans(n_clusters=n_clusters, random_state=42).fit(gabor_feats)\n",
    "    feature_vector_len = len(gabor_feats[0]), len(gabor_feats[0]) # prepend a row of values. each value is the length of the feature vector. (for easy reading and reshaping later on)\n",
    "    codebook = np.concatenat((feature_vector_len, codebook))\n",
    "    codebook.cluster_centers_.tofile(out_codebook_file)\n",
    "    return codebook\n",
    "\n",
    "def restore_codebook(codebook_filename):\n",
    "    \"\"\"\n",
    "    reads the cluster_centers from the codebook file\n",
    "    and restores a kmeans model to use for prediction\n",
    "    \"\"\"\n",
    "    cluster_centers = np.fromfile(codebook_filename)\n",
    "    cluster_centers = cluster_centers.reshape(-1, cluster_centers[0]) # do this because the first value of the first row for the codebook was filled with values corresponding to the length of the feature vectors\n",
    "    cluster_centers = cluster_centers[1:,:] # now remove the row with the feature vector length values\n",
    "    n_clusters = len(cluster_centers)\n",
    "    codebook = KMeans(n_clusters=n_clusters, random_state=42)\n",
    "    codebook.cluster_centers_ = cluster_centers\n",
    "    return codebook\n",
    "\n",
    "def assign_codeword(gabor_feats_image_dir, codebook_file):\n",
    "    \"\"\"\n",
    "    Restores a previous codebook calculated using K-means on the sift\n",
    "    feature vectors. The codebook consists of cluster centers. Each\n",
    "    sift feature vector is assigned a codeword-id corresponding to\n",
    "    the closest cluster center in the codebook. The codeword-id is\n",
    "    prepended to the sift feature vectors for an output of shape\n",
    "    (n_samples, 133). Length of 133 is composed of a 1)codeword-id,\n",
    "    2) image_col, 3) image_row, 4) geo_x, 5) geo_y, and 128 features that\n",
    "    make up the SIFT keypoint description.\n",
    "    \n",
    "    Parameters:\n",
    "    -----------\n",
    "    siftdat_dir: string\n",
    "        the directory name where the .siftdat files are located\n",
    "    codebook_file: string\n",
    "        the file name corresponding to the codebook of k-means cluster centers\n",
    "    \n",
    "    Returns:\n",
    "    --------\n",
    "    None\n",
    "    \"\"\"\n",
    "    gabor_feat_files = [os.path.join(gabor_feats_image_dir,n) for n in os.listdir(gabor_feats_image_dir) if n[-19:] == \"gabor_feat_vecs.tif\"]\n",
    "    codebook = restore_codebook(codebook_file) # get the cluster centers from kmeans. (an ndarray)\n",
    "    for n in gabor_feat_files:\n",
    "        orig_im_basename = n[:-20]\n",
    "        \n",
    "        ds = gdal.Open(n)\n",
    "        image = ds.ReadAsArray()\n",
    "        geotran = ds.GetGeoTransform()\n",
    "        ds = None\n",
    "\n",
    "        out_srs = osr.SpatialReference()\n",
    "        out_srs.ImportFromEPSG(4326)\n",
    "        out_srs_wkt = out_srs.ExportToWkt()\n",
    "        \n",
    "        out = np.zeros(shape=(image.shape[1],image.shape[2]), dtype=np.uint8)\n",
    "        for i in image.shape[1]:\n",
    "            for j in image.shape[2]: \n",
    "                pred = codebook.predict(image[:,i,j]) # assign codeword ids to each gabor feature vector\n",
    "                out[i,j] = pred\n",
    "        output = os.path.join(orig_im_basename, \"_gabor_codewords.tif\")\n",
    "        write_geotiff(output, out, geotran, out_srs_wkt)\n",
    "    \n",
    "def create_gabor_codeword_images(image_dirs, out_gabor_dir, n_clusters=32, rand_samp_num=100000):\n",
    "    bank = create_filter_bank([0, 1, 2, 3, 4, 5], [1, 3], [0.1, 0.5])\n",
    "    \n",
    "    image_names = []\n",
    "    for i in image_dirs:\n",
    "        image_names = [os.path.join(i, n) for n in os.listdir(i)]\n",
    "    \n",
    "    # easily parallelized\n",
    "    local_convolve_filters(im_filename, out_gabor_dir, bank)\n",
    "    \n",
    "    # don't parallelize\n",
    "    create_gabor_codebook(out_gabor_dir, n_clusters=n_clusters, rand_samp_num=rand_samp_num)\n",
    "    \n",
    "    # can parallelize\n",
    "    assign_codeword(out_gabor_dir, os.path.join(out_gabor_dir, \"gabor_kmeans_codebook.dat\"))\n",
    "    \n",
    "def gabor_bovw_feature(image_name, block, scale, output=None):\n",
    "    hist_feature(image_name, block, scale, output=None)\n",
    "    \n",
    "def gabor_feature(image_name, block, scale, output=None):\n",
    "    ds = gdal.Open(image_name)\n",
    "    image = ds.ReadAsArray()\n",
    "    geotran = ds.GetGeoTransform()\n",
    "    ulx = geotran[0]\n",
    "    uly = geotran[3]\n",
    "    cell_width = geotran[1]\n",
    "    cell_height = geotran[5]\n",
    "    \n",
    "    out_srs = osr.SpatialReference()\n",
    "    out_srs.ImportFromEPSG(4326)\n",
    "    out_srs_wkt = out_srs.ExportToWkt()\n",
    "    out_cell_width = block * cell_width\n",
    "    out_cell_height = block * cell_height\n",
    "    \n",
    "    ds = None\n",
    "    \n",
    "    bins = [n for n in range(33)] # bins for numpy histogram.\n",
    "    \n",
    "    out_image = []\n",
    "    for i in range(0, image.shape[0], block):\n",
    "        outrow = []\n",
    "        if i >= MAX_SCALE and i <= image.shape[0] - MAX_SCALE:\n",
    "            for j in range(0, image.shape[1], block):\n",
    "                if j >= MAX_SCALE and j <= image.shape[1] - MAX_SCALE:\n",
    "                    block_arr = image[i:i+block,j:j+block]\n",
    "                    center_i = int(i+block/2)\n",
    "                    center_j = int(j+block/2)\n",
    "                    # catch the origin coordinates for writing the output\n",
    "                    if len(out_image) == 0 and len(outrow) == 0:\n",
    "                        out_uly = uly + cell_height * (center_i - block)\n",
    "                        out_ulx = ulx + cell_width * (center_j - block)\n",
    "                    if block%2 != 0 and scale%2 == 0: # make sure the scale window is the correct size for the block\n",
    "                        scale_arr = image[center_i-int(scale/2):center_i+int(scale/2),center_j-int(scale/2):center_j+int(scale/2)]\n",
    "                    else:\n",
    "                        scale_arr = image[center_i-int(scale/2):center_i+int(scale/2)+1,center_j-int(scale/2):center_j+int(scale/2)+1]      \n",
    "                    out = np.histogram(scale_arr, bins) # could do interesting things with density=True\n",
    "                    outrow.append(out[0])\n",
    "            out_image.append(outrow)\n",
    "    out_image = np.array(out_image)\n",
    "    out_image = np.moveaxis(out_image, -1, 0)\n",
    "    if output:\n",
    "        out_geotran = (out_ulx, out_cell_width, 0, out_uly, 0, out_cell_height)\n",
    "        write_geotiff(output, out_image, out_geotran, out_srs_wkt)\n",
    "    else:\n",
    "        return np.array(out_image)"
   ]
  },
  {
   "cell_type": "code",
   "execution_count": 39,
   "metadata": {},
   "outputs": [],
   "source": [
    "bank = create_filter_bank([0, 1, 2, 3, 4, 5], [1, 3], [0.1, 0.5]) # orientations, sigma, frequency\n",
    "bank2 = create_filter_bank([0, 1, 2, 3],[3],[0.1])"
   ]
  },
  {
   "cell_type": "code",
   "execution_count": 42,
   "metadata": {
    "scrolled": false
   },
   "outputs": [
    {
     "data": {
      "image/png": "[encoded data removed]",
      "text/plain": [
       "<Figure size 432x288 with 1 Axes>"
      ]
     },
     "metadata": {},
     "output_type": "display_data"
    },
    {
     "data": {
      "image/png": "[encoded data removed]",
      "text/plain": [
       "<Figure size 432x288 with 1 Axes>"
      ]
     },
     "metadata": {},
     "output_type": "display_data"
    },
    {
     "data": {
      "image/png": "[encoded data removed]",
      "text/plain": [
       "<Figure size 432x288 with 1 Axes>"
      ]
     },
     "metadata": {},
     "output_type": "display_data"
    },
    {
     "data": {
      "image/png": "[encoded data removed]",
      "text/plain": [
       "<Figure size 432x288 with 1 Axes>"
      ]
     },
     "metadata": {},
     "output_type": "display_data"
    }
   ],
   "source": [
    "for n in bank2:\n",
    "    plt.imshow(n, cmap=\"gray\")\n",
    "    plt.show()"
   ]
  },
  {
   "cell_type": "code",
   "execution_count": 12,
   "metadata": {},
   "outputs": [
    {
     "name": "stderr",
     "output_type": "stream",
     "text": [
      "C:\\Users\\4ja\\AppData\\Local\\Continuum\\miniconda3_64bit\\envs\\py36\\lib\\site-packages\\skimage\\util\\dtype.py:130: UserWarning: Possible precision loss when converting from float64 to uint8\n",
      "  .format(dtypeobj_in, dtypeobj_out))\n"
     ]
    }
   ],
   "source": [
    "image_dir = \"C:/Users/4ja/data/neighborhood_mapping/imagery_orig/sifttest\"\n",
    "image_name = \"C:/Users/4ja/data/neighborhood_mapping/imagery_orig/sifttest/dakar_e_wv2_05272018_000020000_000015000_00032.tif\"\n",
    "outdir = \"C:/Users/4ja/data/neighborhood_mapping/imagery_orig/sifttest/sift_des\"\n",
    "\n",
    "# kps = write_sift_keypoint_desc(image_name, outdir)\n",
    "# codebook = create_sift_codebook(image_dir, outdir, n_clusters=32, rand_samp_num=10000)\n",
    "# preds = assign_codeword(image_dir, \"C:/Users/4ja/data/neighborhood_mapping/imagery_orig/sifttest/sift_kmeans_codebook.dat\")\n",
    "# create_codeword_id_image(image_name, image_dir, \"C:/Users/4ja/data/neighborhood_mapping/imagery_orig/sifttest/dakar_e_wv2_05272018_000020000_000015000_00032.siftdat\")\n",
    "#o = sift_feature(\"C:/Users/4ja/data/neighborhood_mapping/imagery_orig/sifttest/sift_codewords.tif\", 50, 300, outdir + \"/siftim300.tif\")\n",
    "create_sift_codeword_images([image_dir], outdir, n_clusters=32, rand_samp_num=1000)"
   ]
  },
  {
   "cell_type": "code",
   "execution_count": null,
   "metadata": {
    "collapsed": true
   },
   "outputs": [],
   "source": [
    "dat = np.fromfile(\"C:/Users/4ja/data/neighborhood_mapping/imagery_orig/sifttest/dakar_e_wv2_05272018_000020000_000015000_00032_00000_00000.siftdat\").reshape(-1,132)"
   ]
  },
  {
   "cell_type": "code",
   "execution_count": null,
   "metadata": {
    "collapsed": true
   },
   "outputs": [],
   "source": [
    "pr = assign_codeword(\"D:/imagery/naip/m_3712221_se_10_h_20160625\", \"D:/imagery/naip/m_3712221_se_10_h_20160625/sift_kmeans_codebook.dat\")"
   ]
  }
 ],
 "metadata": {
  "kernelspec": {
   "display_name": "Python 3",
   "language": "python",
   "name": "python3"
  },
  "language_info": {
   "codemirror_mode": {
    "name": "ipython",
    "version": 3
   },
   "file_extension": ".py",
   "mimetype": "text/x-python",
   "name": "python",
   "nbconvert_exporter": "python",
   "pygments_lexer": "ipython3",
   "version": "3.6.3"
  }
 },
 "nbformat": 4,
 "nbformat_minor": 2
}
