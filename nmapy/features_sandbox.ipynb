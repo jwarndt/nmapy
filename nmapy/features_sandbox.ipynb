{
 "cells": [
  {
   "cell_type": "code",
   "execution_count": 1,
   "metadata": {},
   "outputs": [],
   "source": [
    "import time\n",
    "import math\n",
    "import os\n",
    "import random\n",
    "\n",
    "import matplotlib.pyplot as plt\n",
    "from sklearn.cluster import KMeans\n",
    "import skimage\n",
    "from skimage.feature import hog, greycomatrix, greycoprops\n",
    "from skimage.color import rgb2gray\n",
    "from skimage.morphology import erosion, dilation, opening, closing, white_tophat\n",
    "import cv2\n",
    "from osgeo import gdal\n",
    "from osgeo import osr\n",
    "import numpy as np"
   ]
  },
  {
   "cell_type": "code",
   "execution_count": 2,
   "metadata": {},
   "outputs": [],
   "source": [
    "def __image_coord_to_geo_coord(keypoints, geotran):\n",
    "    x_coor = geotran[0] + keypoints[0] * geotran[1]\n",
    "    y_coor = geotran[3] + keypoints[1] * geotran[5]\n",
    "    return (x_coor, y_coor)\n",
    "\n",
    "def write_sift_keypoint_desc(image_name, outdir):\n",
    "    ds = gdal.Open(image_name)\n",
    "    image = ds.ReadAsArray()\n",
    "    geotran = ds.GetGeoTransform()\n",
    "    ulx = geotran[0]\n",
    "    uly = geotran[3]\n",
    "    cell_width = geotran[1]\n",
    "    cell_height = geotran[5]\n",
    "\n",
    "    ds = None\n",
    "    image = np.moveaxis(image, 0, -1)\n",
    "    image = skimage.img_as_ubyte(rgb2gray(image))\n",
    "    image = image[0:5000,0:5000]\n",
    "    \n",
    "    # find keypoints and compute descriptions\n",
    "    sift = cv2.xfeatures2d.SIFT_create()\n",
    "    kp, des = sift.detectAndCompute(image, None)\n",
    "    kp_image_coords = [kp[n].pt for n in range(len(kp))]\n",
    "    kp_geo_coords = np.apply_along_axis(__image_coord_to_geo_coord, 1, kp_image_coords, geotran)\n",
    "    sift_des = np.concatenate((kp_geo_coords, des), axis=1)\n",
    "\n",
    "    out_dat_file = os.path.join(outdir, os.path.basename(image_name)[:-4] + \".siftdat\")\n",
    "    sift_des.tofile(out_dat_file)\n",
    "    return sift_des\n",
    "\n",
    "def get_rand_sift_feats(siftdat_dir, sample_num=100000):\n",
    "    keypoints = []\n",
    "    siftdat_files = [n for n in os.listdir(siftdat_dir) if n[-8:] == \".siftdat\"]\n",
    "    rand_file_idx = [random.randint(0, len(siftdat_files)-1) for n in range(sample_num)]\n",
    "    rand_file_idx.sort()\n",
    "    count = 0\n",
    "    cur_file = None\n",
    "    while len(keypoints) < sample_num:\n",
    "        if cur_file != siftdat_files[rand_file_idx[count]]:\n",
    "            cur_file = siftdat_files[rand_file_idx[count]]\n",
    "            siftdat = np.fromfile(os.path.join(siftdat_dir, cur_file)) # retrieve and open a random file\n",
    "            siftdat = siftdat.reshape(-1,130) # reshape into a 2D array of (n_samples, n_features). 128 features plus and x and y coord for a total of 130 features. \n",
    "        rand_kp = random.randint(0, len(siftdat)-1)\n",
    "        keypoints.append(siftdat[rand_kp,2:]) # read a random sift feature from the array and append only its description to keypoints\n",
    "        count+=1\n",
    "    return keypoints\n",
    "\n",
    "def create_sift_codebook(image_dir, out_dir, n_clusters=32, rand_samp_num=100000):\n",
    "    \"\"\"\n",
    "    Returns:\n",
    "    --------\n",
    "    codebook: sklearn kmeans class\n",
    "        The cluster centers obtained by running kmeans on randomly\n",
    "        sampled sift keypoint descriptions.\n",
    "        Each cluster center is a vector of 128 features\n",
    "    \"\"\"\n",
    "    image_names = [os.path.join(image_dir,n) for n in os.listdir(image_dir) if n[-4:] == \".tif\"]\n",
    "    out_codebook_file = os.path.join(outdir, 'sift_kmeans_codebook' + \".dat\")\n",
    "    for n in image_names:\n",
    "        write_sift_keypoint_desc(n, out_dir)\n",
    "    sift_feats = get_rand_sift_feats(out_dir, rand_samp_num)\n",
    "    codebook = KMeans(n_clusters=n_clusters, random_state=42).fit(sift_feats)\n",
    "    codebook.cluster_centers_.tofile(out_codebook_file)\n",
    "    return codebook\n",
    "\n",
    "def assign_codeword(siftdat_dir, codebook_file):\n",
    "    siftdat_files = [n for n in os.listdir(siftdat_dir) if n[-8:] == \".siftdat\"]\n",
    "    codebook = np.fromfile(codebook_file) # get the cluster centers from kmeans. (an ndarray)\n",
    "    for n in siftdat_files:\n",
    "        siftdat = np.fromfile(n)\n",
    "        coords = siftdat[:,:2]\n",
    "        feats = siftdat[:,2:]"
   ]
  },
  {
   "cell_type": "code",
   "execution_count": 3,
   "metadata": {},
   "outputs": [
    {
     "name": "stderr",
     "output_type": "stream",
     "text": [
      "C:\\Users\\Jacob\\AppData\\Local\\Continuum\\anaconda3\\envs\\py36_tf\\lib\\site-packages\\skimage\\util\\dtype.py:130: UserWarning: Possible precision loss when converting from float64 to uint8\n",
      "  .format(dtypeobj_in, dtypeobj_out))\n"
     ]
    }
   ],
   "source": [
    "image_name = \"D:/imagery/naip/m_3712221_se_10_h_20160625\"\n",
    "outdir = \"D:/imagery/naip/m_3712221_se_10_h_20160625\"\n",
    "codebook = create_sift_codebook(image_name, outdir, n_clusters=32, rand_samp_num=1000)"
   ]
  },
  {
   "cell_type": "code",
   "execution_count": 8,
   "metadata": {},
   "outputs": [
    {
     "data": {
      "text/plain": [
       "array([[ 32.06451613,  42.67741935,  49.29032258, ...,  15.83870968,\n",
       "         21.16129032,  19.77419355],\n",
       "       [ 23.45454545,  31.18181818,  25.68181818, ...,   3.59090909,\n",
       "          5.18181818,   2.        ],\n",
       "       [ 35.73913043,  23.07246377,  19.52173913, ...,  17.02898551,\n",
       "         14.60869565,  15.94202899],\n",
       "       ...,\n",
       "       [ 66.11538462,  29.11538462,  10.5       , ...,  22.11538462,\n",
       "         13.76923077,  17.42307692],\n",
       "       [ 40.5       , 112.1       ,  64.8       , ...,   8.9       ,\n",
       "          7.35      ,   4.6       ],\n",
       "       [ 29.90909091,  18.81818182,  15.48484848, ...,   7.39393939,\n",
       "          4.48484848,   7.75757576]])"
      ]
     },
     "execution_count": 8,
     "metadata": {},
     "output_type": "execute_result"
    }
   ],
   "source": [
    "codebook.cluster_centers_"
   ]
  },
  {
   "cell_type": "code",
   "execution_count": null,
   "metadata": {},
   "outputs": [],
   "source": [
    "sift_feats = get_rand_sift_feats(outdir, 1000)"
   ]
  },
  {
   "cell_type": "code",
   "execution_count": null,
   "metadata": {
    "collapsed": true
   },
   "outputs": [],
   "source": [
    "plt.figure(figsize=(15,15))\n",
    "plt.subplot(121)\n",
    "plt.imshow(im[1000:1500,8200:8700], cmap=plt.cm.gray)\n",
    "plt.title(\"Input Image\")\n",
    "\n",
    "plt.subplot(122)\n",
    "plt.imshow(mbi3[1000:1500,8200:8700], cmap=plt.cm.gray)\n",
    "plt.title('MBI')"
   ]
  },
  {
   "cell_type": "code",
   "execution_count": null,
   "metadata": {
    "collapsed": true
   },
   "outputs": [],
   "source": []
  }
 ],
 "metadata": {
  "kernelspec": {
   "display_name": "Python 3",
   "language": "python",
   "name": "python3"
  },
  "language_info": {
   "codemirror_mode": {
    "name": "ipython",
    "version": 3
   },
   "file_extension": ".py",
   "mimetype": "text/x-python",
   "name": "python",
   "nbconvert_exporter": "python",
   "pygments_lexer": "ipython3",
   "version": "3.6.3"
  }
 },
 "nbformat": 4,
 "nbformat_minor": 2
}
