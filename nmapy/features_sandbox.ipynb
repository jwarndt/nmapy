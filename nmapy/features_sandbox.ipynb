{
 "cells": [
  {
   "cell_type": "code",
   "execution_count": null,
   "metadata": {
    "collapsed": true
   },
   "outputs": [],
   "source": [
    "import time\n",
    "import math\n",
    "import os\n",
    "import random\n",
    "\n",
    "import matplotlib.pyplot as plt\n",
    "from sklearn.cluster import KMeans\n",
    "import skimage\n",
    "from scipy import ndimage as ndi\n",
    "from skimage.feature import hog, greycomatrix, greycoprops\n",
    "from skimage.color import rgb2gray\n",
    "from skimage.filters import gabor_kernel\n",
    "from skimage.morphology import erosion, dilation, opening, closing, white_tophat\n",
    "import cv2\n",
    "from osgeo import gdal\n",
    "from osgeo import osr\n",
    "import numpy as np\n",
    "\n",
    "from nmapy.nmapy.features.gabor import *"
   ]
  },
  {
   "cell_type": "code",
   "execution_count": null,
   "metadata": {
    "collapsed": true
   },
   "outputs": [],
   "source": [
    "image_dir = \"D:/imagery/naip\"\n",
    "out_dir = \"D:/imagery/naip/gabor_feats\"\n",
    "image_name = \"D:/imagery/naip/m_3712221_se_10_h_20160625wgs84\"\n",
    "\n",
    "create_gabor_codeword_images([image_dir],out_dir,n_clusters=32, rand_samp_num=1000)\n",
    "#bank = create_filter_bank([0, 1, 2, 3, 4], [1, 3], [0.1, 0.5]) # orientations, sigma, frequency"
   ]
  },
  {
   "cell_type": "code",
   "execution_count": null,
   "metadata": {
    "collapsed": true
   },
   "outputs": [],
   "source": [
    "for n in bank2:\n",
    "    plt.imshow(n, cmap=\"gray\")\n",
    "    plt.show()"
   ]
  },
  {
   "cell_type": "code",
   "execution_count": null,
   "metadata": {
    "collapsed": true
   },
   "outputs": [],
   "source": [
    "out_image = np.zeros(shape=(len(bank), 6, 6), dtype=np.float32)\n",
    "out_image = out_image.astype(np.int)\n",
    "out_image.dtype\n",
    "x = np.array([10.98321573606236])\n",
    "x.astype(np.float32)"
   ]
  },
  {
   "cell_type": "code",
   "execution_count": null,
   "metadata": {
    "collapsed": true
   },
   "outputs": [],
   "source": [
    "image_dir = \"C:/Users/4ja/data/neighborhood_mapping/imagery_orig/sifttest\"\n",
    "image_name = \"C:/Users/4ja/data/neighborhood_mapping/imagery_orig/sifttest/dakar_e_wv2_05272018_000020000_000015000_00032.tif\"\n",
    "outdir = \"C:/Users/4ja/data/neighborhood_mapping/imagery_orig/sifttest/sift_des\"\n",
    "\n",
    "# kps = write_sift_keypoint_desc(image_name, outdir)\n",
    "# codebook = create_sift_codebook(image_dir, outdir, n_clusters=32, rand_samp_num=10000)\n",
    "# preds = assign_codeword(image_dir, \"C:/Users/4ja/data/neighborhood_mapping/imagery_orig/sifttest/sift_kmeans_codebook.dat\")\n",
    "# create_codeword_id_image(image_name, image_dir, \"C:/Users/4ja/data/neighborhood_mapping/imagery_orig/sifttest/dakar_e_wv2_05272018_000020000_000015000_00032.siftdat\")\n",
    "#o = sift_feature(\"C:/Users/4ja/data/neighborhood_mapping/imagery_orig/sifttest/sift_codewords.tif\", 50, 300, outdir + \"/siftim300.tif\")\n",
    "create_sift_codeword_images([image_dir], outdir, n_clusters=32, rand_samp_num=1000)"
   ]
  },
  {
   "cell_type": "code",
   "execution_count": null,
   "metadata": {
    "collapsed": true
   },
   "outputs": [],
   "source": [
    "dat = np.fromfile(\"C:/Users/4ja/data/neighborhood_mapping/imagery_orig/sifttest/dakar_e_wv2_05272018_000020000_000015000_00032_00000_00000.siftdat\").reshape(-1,132)"
   ]
  },
  {
   "cell_type": "code",
   "execution_count": null,
   "metadata": {
    "collapsed": true
   },
   "outputs": [],
   "source": [
    "pr = assign_codeword(\"D:/imagery/naip/m_3712221_se_10_h_20160625\", \"D:/imagery/naip/m_3712221_se_10_h_20160625/sift_kmeans_codebook.dat\")"
   ]
  }
 ],
 "metadata": {
  "kernelspec": {
   "display_name": "Python 3",
   "language": "python",
   "name": "python3"
  },
  "language_info": {
   "codemirror_mode": {
    "name": "ipython",
    "version": 3
   },
   "file_extension": ".py",
   "mimetype": "text/x-python",
   "name": "python",
   "nbconvert_exporter": "python",
   "pygments_lexer": "ipython3",
   "version": "3.6.3"
  }
 },
 "nbformat": 4,
 "nbformat_minor": 2
}
