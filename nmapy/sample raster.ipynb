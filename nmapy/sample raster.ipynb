{
 "cells": [
  {
   "cell_type": "code",
   "execution_count": 6,
   "metadata": {},
   "outputs": [],
   "source": [
    "import os\n",
    "\n",
    "from osgeo import gdal\n",
    "from osgeo import ogr\n",
    "import numpy as np\n",
    "\n",
    "def sample_raster(input_image, input_training_points, output_dir, class_id_field):\n",
    "    \"\"\"\n",
    "    output a sample info file (tells how point ids map to text ids, etc.)\n",
    "    points should be in same projection as the image\n",
    "    \"\"\"\n",
    "    driver = ogr.GetDriverByName('ESRI Shapefile')\n",
    "    pnt_ds = driver.Open(training_shapefile, 0) # 0 means read-only. 1 means writeable.\n",
    "    layer = pnt_ds.GetLayer()\n",
    "    \n",
    "    im_ds = gdal.Open(input_image)\n",
    "    arr = im_ds.ReadAsArray()\n",
    "    geotran = image.GetGeoTransform()\n",
    "    ulx = geotran[0]\n",
    "    cell_width = geotran[1]\n",
    "    uly = geotran[3]\n",
    "    cell_height = geotran[5]\n",
    "    \n",
    "    classes = []\n",
    "    \n",
    "    training_sample_file = open(os.path.join(output_dir, os.path.basename(input_training_points)[:-4] + os.path.basename(input_image)[:-4] + \".dat\"))\n",
    "    header = \"id,x,y\"\n",
    "    for b in range(len(arr)):\n",
    "        header = header + \",\" + os.path.basename(input_image)[:-4] + \".\" + str(b + 1)\n",
    "    header+=\",response \\n\" # the class label\n",
    "    training_sample_file.write(header)\n",
    "    \n",
    "    for feature in layer:\n",
    "        class_type = feature.GetField(class_id_field)\n",
    "        if class_type not in classes:\n",
    "            classes.append(class_type)\n",
    "        fid = str(float(feature.GetFID()))\n",
    "        geom = feature.GetGeometryRef()\n",
    "        x = geom.GetPoints()[0][0]\n",
    "        y = geom.GetPoints()[0][1]\n",
    "        sample_str = fid + \",\" + str(x) + \",\" + str(y) + \",\"\n",
    "        col = (x - ulx) / cell_width\n",
    "        row = abs((uly - y) / cell_height)\n",
    "        sample_slice = arr[:, row, col]\n",
    "        for s in sample_slice:\n",
    "            sample_str += \",\" + str(s)\n",
    "        sample_str += \",\" + str(float(classes.index(class_type))) + \"\\n\"\n",
    "        training_sample_file.write(sample_str)"
   ]
  },
  {
   "cell_type": "code",
   "execution_count": 7,
   "metadata": {},
   "outputs": [],
   "source": [
    "driver = ogr.GetDriverByName('ESRI Shapefile')\n",
    "pnt_ds = driver.Open(\"C:/Users/4ja/data/neighborhood_mapping/experiments/exp_1/training_points50.shp\", 0) # 0 means read-only. 1 means writeable."
   ]
  },
  {
   "cell_type": "code",
   "execution_count": 9,
   "metadata": {},
   "outputs": [],
   "source": [
    "layer = pnt_ds.GetLayer()\n",
    "for f in layer:\n",
    "    geom = f.GetGeometryRef()\n",
    "    break"
   ]
  },
  {
   "cell_type": "code",
   "execution_count": 16,
   "metadata": {},
   "outputs": [
    {
     "data": {
      "text/plain": [
       "1"
      ]
     },
     "execution_count": 16,
     "metadata": {},
     "output_type": "execute_result"
    }
   ],
   "source": [
    "arr = ['hi','j','lol','hg']\n",
    "arr.index('j')"
   ]
  },
  {
   "cell_type": "code",
   "execution_count": null,
   "metadata": {},
   "outputs": [],
   "source": []
  }
 ],
 "metadata": {
  "kernelspec": {
   "display_name": "Python 3",
   "language": "python",
   "name": "python3"
  },
  "language_info": {
   "codemirror_mode": {
    "name": "ipython",
    "version": 3
   },
   "file_extension": ".py",
   "mimetype": "text/x-python",
   "name": "python",
   "nbconvert_exporter": "python",
   "pygments_lexer": "ipython3",
   "version": "3.6.6"
  }
 },
 "nbformat": 4,
 "nbformat_minor": 2
}
